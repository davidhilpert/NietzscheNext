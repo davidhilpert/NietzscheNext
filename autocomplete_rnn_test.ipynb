{
  "cells": [
    {
      "cell_type": "markdown",
      "metadata": {
        "id": "8JcvEz43u3Z8"
      },
      "source": [
        "# Nietzsche Next\n",
        "- systematically evaluating of predictive accuracy of autocomplete model\n"
      ]
    },
    {
      "cell_type": "code",
      "execution_count": null,
      "metadata": {
        "colab": {
          "base_uri": "https://localhost:8080/"
        },
        "id": "0asFbfJpulKM",
        "outputId": "c164cc58-6ae3-42dc-c7a2-d536c40d0fcb"
      },
      "outputs": [
        {
          "output_type": "stream",
          "name": "stdout",
          "text": [
            "Mounted at /content/drive\n"
          ]
        }
      ],
      "source": [
        "import numpy as np\n",
        "from tensorflow.keras.models import Sequential\n",
        "from tensorflow.keras.layers import LSTM, Dense, Embedding, Bidirectional, TimeDistributed, Dropout\n",
        "from tensorflow.keras.utils import to_categorical\n",
        "from tensorflow.keras.optimizers import RMSprop\n",
        "from tensorflow.keras.callbacks import EarlyStopping, ReduceLROnPlateau\n",
        "\n",
        "import re\n",
        "import unicodedata\n",
        "import os\n",
        "from multiprocessing import Pool, cpu_count\n",
        "\n",
        "from google.colab import drive\n",
        "drive.mount('/content/drive')"
      ]
    },
    {
      "cell_type": "code",
      "source": [
        "import pickle\n",
        "\n",
        "# load character mappings\n",
        "with open(\"/content/drive/MyDrive/autocomplete/data/char_mappings.pkl\", \"rb\") as f:\n",
        "    mappings = pickle.load(f)\n",
        "\n",
        "char_to_index = mappings['char_to_index']\n",
        "index_to_char = mappings['index_to_char']\n",
        "vocab_size = mappings['vocab_size']\n",
        "\n",
        "# load cleaned training and testing data\n",
        "with open(\"/content/drive/MyDrive/autocomplete/data/nietzsche_train_clean.txt\", \"r\") as f:\n",
        "    nietzsche_train_clean = f.read()\n",
        "\n",
        "with open(\"/content/drive/MyDrive/autocomplete/data/nietzsche_test_clean.txt\", \"r\") as f:\n",
        "    nietzsche_test_clean = f.read()\n",
        "\n",
        "print(f\"Vocabulary size: {vocab_size}\")\n",
        "print(f\"Sample training data: {nietzsche_train_clean[:100]}\")\n",
        "print(f\"Sample testing data: {nietzsche_test_clean[:100]}\")\n"
      ],
      "metadata": {
        "id": "NXj-hegDU6r1"
      },
      "execution_count": null,
      "outputs": []
    },
    {
      "cell_type": "code",
      "source": [
        "import numpy as np\n",
        "\n",
        "# load numpy arrays\n",
        "test_sequences_np = np.load(\"/content/drive/MyDrive/autocomplete/data/test_sequences.npy\")\n",
        "test_labels_np = np.load(\"/content/drive/MyDrive/autocomplete/data/test_labels.npy\")\n",
        "\n",
        "# convert numpy arrays back to lists\n",
        "train_sequences = train_sequences_np.tolist()\n",
        "train_labels = train_labels_np.tolist()\n",
        "test_sequences = test_sequences_np.tolist()\n",
        "test_labels = test_labels_np.tolist()\n",
        "\n",
        "print(f\"First training sequence: {train_sequences[0]}\")\n",
        "print(f\"First training label: {train_labels[0]}\")\n",
        "print(f\"First testing sequence: {test_sequences[0]}\")\n",
        "print(f\"First testing label: {test_labels[0]}\")\n"
      ],
      "metadata": {
        "id": "F2K71KNyVLrm"
      },
      "execution_count": null,
      "outputs": []
    },
    {
      "cell_type": "code",
      "execution_count": null,
      "metadata": {
        "id": "ByvTnRibu5X1"
      },
      "outputs": [],
      "source": [
        "import tensorflow as tf\n",
        "from tensorflow.keras.utils import to_categorical\n",
        "\n",
        "sequence_length = 80\n",
        "step = 1\n",
        "\n",
        "# convert data to TensorFlow datasets\n",
        "test_data = tf.data.Dataset.from_tensor_slices((test_sequences, test_labels))\n",
        "\n",
        "# define one-hot encoding function for TPU\n",
        "def one_hot_encode(x, y):\n",
        "    x = tf.convert_to_tensor(x)\n",
        "    y = tf.one_hot(y, depth=vocab_size)  # TPU-friendly one-hot encoding\n",
        "    return x, y\n",
        "\n",
        "\n",
        "# Batch, shuffle, and optimize dataset\n",
        "batch_size = 2048  # TPUs handle larger batch sizes more effectively\n",
        "\n",
        "test_data = (test_data\n",
        "             .batch(batch_size, drop_remainder=True)\n",
        "             .map(one_hot_encode)\n",
        "             .prefetch(tf.data.AUTOTUNE))\n"
      ]
    },
    {
      "cell_type": "code",
      "execution_count": null,
      "metadata": {
        "id": "ktWXpTLQzV3v"
      },
      "outputs": [],
      "source": [
        "from keras.layers import TFSMLayer\n",
        "\n",
        "model_layer = TFSMLayer('/content/drive/MyDrive/nietzsche_model_v04_1_tf', call_endpoint='serving_default')\n"
      ]
    },
    {
      "cell_type": "code",
      "source": [
        "for sample, _ in test_data.take(1):  # Take one batch to inspect shape\n",
        "    input_shape = sample.shape\n",
        "    print(\"Input shape from dataset:\", input_shape)\n",
        "    break\n"
      ],
      "metadata": {
        "colab": {
          "base_uri": "https://localhost:8080/"
        },
        "id": "Cu0bSLR9XXgc",
        "outputId": "52007527-ba22-4d77-ce4f-4946929c5d63"
      },
      "execution_count": null,
      "outputs": [
        {
          "output_type": "stream",
          "name": "stdout",
          "text": [
            "Input shape from dataset: (2048, 80)\n"
          ]
        }
      ]
    },
    {
      "cell_type": "code",
      "source": [
        "# wrap layer in simple model to make predictions\n",
        "#inputs = tf.keras.Input(shape=(input_shape))  # Set input_shape based on your model\n",
        "inputs = tf.keras.Input(shape=(80,))  # Remove additional dimension\n",
        "outputs = model_layer(inputs)\n",
        "prediction_model = tf.keras.Model(inputs, outputs)\n"
      ],
      "metadata": {
        "colab": {
          "base_uri": "https://localhost:8080/"
        },
        "id": "AxQDvBpCWf0-",
        "outputId": "9d09b284-255b-4608-85b1-6866f40ae61f"
      },
      "execution_count": null,
      "outputs": [
        {
          "output_type": "stream",
          "name": "stdout",
          "text": [
            "\u001b[1m1/1\u001b[0m \u001b[32m━━━━━━━━━━━━━━━━━━━━\u001b[0m\u001b[37m\u001b[0m \u001b[1m2s\u001b[0m 2s/step\n"
          ]
        }
      ]
    },
    {
      "cell_type": "code",
      "source": [
        "# assess prediction accuracy\n",
        "\n",
        "# select sequences from test set\n",
        "select_sequences = np.arange(0,len(test_sequences),80)\n",
        "\n",
        "pred_acc_1 = [] # prediction based on context\n",
        "pred_acc_2 = [] # prediction based on context plus first character\n",
        "\n",
        "# loop over sequences, one sequence after another\n",
        "for seq_num in select_sequences: # len(test_sequences)\n",
        "\n",
        "  # flag last unambiguously complete word (the one between second-to-last and last \" \")\n",
        "  whitespace_locs = [i for i, e in enumerate(test_sequences[seq_num]) if e == 0]\n",
        "  last_word_start = whitespace_locs[len(whitespace_locs)-2]\n",
        "  last_word_stop = whitespace_locs[len(whitespace_locs)-1]\n",
        "  word_targ_idx = test_sequences[seq_num][last_word_start+1:last_word_stop]\n",
        "\n",
        "  # cut and pad sequence\n",
        "  gap_to_full_seq = sequence_length - len(test_sequences[seq_num][:last_word_start+1])\n",
        "  padding = [0] * gap_to_full_seq\n",
        "  padded_seq1 = padding + test_sequences[seq_num][:last_word_start+1] # sequence before word\n",
        "  padded_seq2 = padding + test_sequences[seq_num][1:last_word_start+2] # sequence before word plus 1st character of word\n",
        "\n",
        "  # predict word from context\n",
        "  word_pred_idx_1 = []\n",
        "  seq_2_be_predicted = np.array(padded_seq1).reshape(1, 80)  # Reshape to (1, 80) for batch compatibility\n",
        "  prob_dict = prediction_model.predict(seq_2_be_predicted, verbose=0)\n",
        "  # list(prob_dict.values())[0].shape # list w. only 1 element; returns (1, 80, 60)\n",
        "  # pred probs for last character in sequence:\n",
        "  pred_probs = list(prob_dict.values())[0][:,sequence_length-1,:]\n",
        "  # still a 1 x vocab_size object:\n",
        "  pred_probs = pred_probs[0]\n",
        "  pred_index = np.argmax(pred_probs) # returns the indices of the maximum values along an axis\n",
        "  word_pred_idx_1.append(pred_index)\n",
        "\n",
        "  while pred_index != 0:\n",
        "      padded_seq1.append(pred_index)\n",
        "      padded_seq1 = padded_seq1[1:]\n",
        "\n",
        "      seq_2_be_predicted = np.array(padded_seq1).reshape(1, 80)\n",
        "      prob_dict = prediction_model.predict(seq_2_be_predicted, verbose=0)\n",
        "      pred_probs = list(prob_dict.values())[0][:,sequence_length-1,:]\n",
        "      pred_probs = pred_probs[0]\n",
        "      pred_index = np.argmax(pred_probs)\n",
        "      #print(word_pred_idx)\n",
        "      if pred_index == 0:\n",
        "          break\n",
        "      word_pred_idx_1.append(pred_index)\n",
        "\n",
        "\n",
        "  # predict word from context plus first character of word\n",
        "  word_pred_idx_2 = [padded_seq2[len(padded_seq2)-1]] # first character is known\n",
        "\n",
        "  seq_2_be_predicted = np.array(padded_seq2).reshape(1, 80)  # Reshape to (1, 80) for batch compatibility\n",
        "  prob_dict = prediction_model.predict(seq_2_be_predicted, verbose=0)\n",
        "  # list(prob_dict.values())[0].shape # list w. only 1 element; returns (1, 80, 60)\n",
        "  # pred probs for last character in sequence:\n",
        "  pred_probs = list(prob_dict.values())[0][:,sequence_length-1,:]\n",
        "  # still a 1 x vocab_size object:\n",
        "  pred_probs = pred_probs[0]\n",
        "  pred_index = np.argmax(pred_probs) # Returns the indices of the maximum values along an axis.\n",
        "  word_pred_idx_2.append(pred_index)\n",
        "\n",
        "  while pred_index != 0:\n",
        "      padded_seq2.append(pred_index)\n",
        "      padded_seq2 = padded_seq2[1:]\n",
        "\n",
        "      seq_2_be_predicted = np.array(padded_seq2).reshape(1, 80)\n",
        "      prob_dict = prediction_model.predict(seq_2_be_predicted, verbose=0)\n",
        "      pred_probs = list(prob_dict.values())[0][:,sequence_length-1,:]\n",
        "      pred_probs = pred_probs[0]\n",
        "      pred_index = np.argmax(pred_probs)\n",
        "\n",
        "      if pred_index == 0:\n",
        "          break\n",
        "      word_pred_idx_2.append(pred_index)\n",
        "\n",
        "  # validate against targets\n",
        "  # return true if there is a (partial) match: allow incomplete predictions a la sinful -> sinfulness\n",
        "  val1 = word_pred_idx_1 == word_targ_idx[:len(word_pred_idx_1)]\n",
        "  val2 = word_pred_idx_2 == word_targ_idx[:len(word_pred_idx_2)]\n",
        "\n",
        "  pred_acc_1.append(val1)\n",
        "  pred_acc_2.append(val2)\n",
        "\n"
      ],
      "metadata": {
        "id": "fGAB58mrbq6s"
      },
      "execution_count": null,
      "outputs": []
    },
    {
      "cell_type": "code",
      "source": [
        "print(np.unique(pred_acc_1, return_counts=True))\n",
        "print(np.unique(pred_acc_2, return_counts=True))\n",
        "# accuracy rates of ~12-18% and ~30-38% respectively"
      ],
      "metadata": {
        "colab": {
          "base_uri": "https://localhost:8080/"
        },
        "id": "QHyNlf86uAS0",
        "outputId": "ca71bf1f-8348-4e87-acd8-832db80638a2"
      },
      "execution_count": null,
      "outputs": [
        {
          "output_type": "stream",
          "name": "stdout",
          "text": [
            "(array([False,  True]), array([6103, 1278]))\n",
            "(array([False,  True]), array([4696, 2685]))\n"
          ]
        }
      ]
    },
    {
      "cell_type": "code",
      "source": [
        "from matplotlib import pyplot\n",
        "\n",
        "proportions1 = np.unique(pred_acc_1, return_counts=True)[1] / len(pred_acc_1)\n",
        "proportions2 = np.unique(pred_acc_2, return_counts=True)[1] / len(pred_acc_2)\n",
        "\n",
        "data = np.array([proportions1, proportions2]).T  # Transpose for stacking\n",
        "\n",
        "labels = ['Incorrect prediction' ,'Correct prediction']\n",
        "colors = ['#FF9999','#66B2FF']\n",
        "\n",
        "fig, ax = pyplot.subplots()\n",
        "ax.bar(['Context', 'Context plus first character'], data[0], label='False', color=colors[0])\n",
        "ax.bar(['Context', 'Context plus first character'], data[1], bottom=data[0], label='True', color=colors[1])\n",
        "\n",
        "ax.set_ylabel('Proportion')\n",
        "ax.set_title('Prediction accuracy')\n",
        "ax.legend(labels)\n",
        "\n",
        "pyplot.show()"
      ],
      "metadata": {
        "colab": {
          "base_uri": "https://localhost:8080/",
          "height": 472
        },
        "id": "ktTdpN7f6OCh",
        "outputId": "43e0f892-58d1-4331-feea-34f214328a4e"
      },
      "execution_count": null,
      "outputs": [
        {
          "output_type": "display_data",
          "data": {
            "text/plain": [
              "<Figure size 640x480 with 1 Axes>"
            ],
            "image/png": "[encoded data removed]"
          },
          "metadata": {}
        }
      ]
    },
    {
      "cell_type": "code",
      "source": [
        "print(\"ground truth: \", [index_to_char[idx] for idx in word_targ_idx])\n",
        "print(\"prediction (context-based)\", [index_to_char[idx] for idx in word_pred_idx_1])\n",
        "print(\"prediction (using first letter)\", [index_to_char[idx] for idx in word_pred_idx_2])"
      ],
      "metadata": {
        "colab": {
          "base_uri": "https://localhost:8080/"
        },
        "id": "O_LMC9V0ZAtd",
        "outputId": "7e25f044-8a37-492e-9c7d-92945df210e2"
      },
      "execution_count": null,
      "outputs": [
        {
          "output_type": "stream",
          "name": "stdout",
          "text": [
            "ground truth:  ['m', 'a', 'k', 'e']\n",
            "prediction (context-based) ['t', 'h', 'e']\n",
            "prediction (using first letter) ['m', 'a', 'k', 'e']\n"
          ]
        }
      ]
    }
  ],
  "metadata": {
    "colab": {
      "provenance": [],
      "authorship_tag": "ABX9TyN2MxaXV2n9yX/zd8DQBpxs"
    },
    "kernelspec": {
      "display_name": "Python 3",
      "name": "python3"
    },
    "language_info": {
      "name": "python"
    }
  },
  "nbformat": 4,
  "nbformat_minor": 0
}